{
 "cells": [
  {
   "cell_type": "code",
   "execution_count": null,
   "id": "95316953",
   "metadata": {},
   "outputs": [],
   "source": [
    "# loading the data"
   ]
  },
  {
   "cell_type": "code",
   "execution_count": 1,
   "id": "0c13bdb8",
   "metadata": {},
   "outputs": [],
   "source": [
    "from glob import glob\n",
    "import os\n",
    "import mne\n",
    "import numpy as np\n",
    "import pandas\n",
    "import matplotlib.pyplot as plt"
   ]
  },
  {
   "cell_type": "code",
   "execution_count": 2,
   "id": "26da74ee",
   "metadata": {},
   "outputs": [
    {
     "name": "stdout",
     "output_type": "stream",
     "text": [
      "72\n"
     ]
    }
   ],
   "source": [
    "# using glob to extract all .edf files from the folder\n",
    "\n",
    "all_file_path = glob('data/*.edf')\n",
    "print(len(all_file_path))"
   ]
  },
  {
   "cell_type": "code",
   "execution_count": 3,
   "id": "cf2802d5",
   "metadata": {},
   "outputs": [
    {
     "data": {
      "text/plain": [
       "['data\\\\Subject00_1.edf',\n",
       " 'data\\\\Subject00_2.edf',\n",
       " 'data\\\\Subject01_1.edf',\n",
       " 'data\\\\Subject01_2.edf',\n",
       " 'data\\\\Subject02_1.edf']"
      ]
     },
     "execution_count": 3,
     "metadata": {},
     "output_type": "execute_result"
    }
   ],
   "source": [
    "all_file_path[:5]"
   ]
  },
  {
   "cell_type": "code",
   "execution_count": 4,
   "id": "1935b68d",
   "metadata": {},
   "outputs": [
    {
     "name": "stdout",
     "output_type": "stream",
     "text": [
      "36 36\n"
     ]
    }
   ],
   "source": [
    "# from data set we already know there are total 36 persons \n",
    "# and each one has two .edf files subjectid_01 for data before arithmetic task\n",
    "# and subjectid_02 for data during arithmetic task\n",
    "# so here i assigned all the files which has 1 after '_' to before_arithmetic_task\n",
    "# similarly all the files that has 2 after '_' to during arithmetic task\n",
    "\n",
    "before_arithmetic_task = [i for i in all_file_path if '1' in i.split('_')[1]]\n",
    "during_arithmetic_task = [i for i in all_file_path if '2' in i.split('_')[1]]\n",
    "\n",
    "print(len(before_arithmetic_task), len(during_arithmetic_task))"
   ]
  },
  {
   "cell_type": "code",
   "execution_count": 5,
   "id": "798a071c",
   "metadata": {},
   "outputs": [],
   "source": [
    "# function to read the .edf file data using mne package\n",
    "\n",
    "def read_data(file_path):\n",
    "    data = mne.io.read_raw_edf(file_path, preload = True)\n",
    "    data.set_eeg_reference()\n",
    "    data.filter(l_freq = 0.5, h_freq = 45)\n",
    "    epochs = mne.make_fixed_length_epochs(data, duration = 5, overlap = 1)\n",
    "    array = epochs.get_data()\n",
    "    return array"
   ]
  },
  {
   "cell_type": "code",
   "execution_count": 6,
   "id": "e191932f",
   "metadata": {},
   "outputs": [
    {
     "name": "stdout",
     "output_type": "stream",
     "text": [
      "Extracting EDF parameters from C:\\Users\\prave\\Desktop\\eeg-during-mental-arithmetic-tasks\\data\\Subject00_2.edf...\n",
      "EDF file detected\n",
      "Setting channel info structure...\n",
      "Creating raw.info structure...\n",
      "Reading 0 ... 30999  =      0.000 ...    61.998 secs...\n",
      "EEG channel type selected for re-referencing\n",
      "Applying average reference.\n",
      "Applying a custom ('EEG',) reference.\n",
      "Filtering raw data in 1 contiguous segment\n",
      "Setting up band-pass filter from 0.5 - 45 Hz\n",
      "\n",
      "FIR filter parameters\n",
      "---------------------\n",
      "Designing a one-pass, zero-phase, non-causal bandpass filter:\n",
      "- Windowed time-domain design (firwin) method\n",
      "- Hamming window with 0.0194 passband ripple and 53 dB stopband attenuation\n",
      "- Lower passband edge: 0.50\n",
      "- Lower transition bandwidth: 0.50 Hz (-6 dB cutoff frequency: 0.25 Hz)\n",
      "- Upper passband edge: 45.00 Hz\n",
      "- Upper transition bandwidth: 11.25 Hz (-6 dB cutoff frequency: 50.62 Hz)\n",
      "- Filter length: 3301 samples (6.602 s)\n",
      "\n",
      "Not setting metadata\n",
      "15 matching events found\n",
      "No baseline correction applied\n",
      "0 projection items activated\n",
      "Using data from preloaded Raw for 15 events and 2500 original time points ...\n",
      "0 bad epochs dropped\n"
     ]
    },
    {
     "name": "stderr",
     "output_type": "stream",
     "text": [
      "[Parallel(n_jobs=1)]: Using backend SequentialBackend with 1 concurrent workers.\n",
      "[Parallel(n_jobs=1)]: Done   1 out of   1 | elapsed:    0.0s remaining:    0.0s\n",
      "[Parallel(n_jobs=1)]: Done   2 out of   2 | elapsed:    0.0s remaining:    0.0s\n",
      "[Parallel(n_jobs=1)]: Done   3 out of   3 | elapsed:    0.0s remaining:    0.0s\n",
      "[Parallel(n_jobs=1)]: Done   4 out of   4 | elapsed:    0.0s remaining:    0.0s\n",
      "[Parallel(n_jobs=1)]: Done  21 out of  21 | elapsed:    0.0s finished\n"
     ]
    }
   ],
   "source": [
    "# i just passed a edf file to read_data function to check weather the function is working or not\n",
    "# we can see what information is extracted from the .edf file\n",
    "\n",
    "sample_data = read_data(during_arithmetic_task[0])"
   ]
  },
  {
   "cell_type": "code",
   "execution_count": 7,
   "id": "d509bfe3",
   "metadata": {},
   "outputs": [
    {
     "data": {
      "text/plain": [
       "(15, 21, 2500)"
      ]
     },
     "execution_count": 7,
     "metadata": {},
     "output_type": "execute_result"
    }
   ],
   "source": [
    "# shape of the data that we extracted from .edf file\n",
    "sample_data.shape # no of epochs, channels, length of signal"
   ]
  },
  {
   "cell_type": "code",
   "execution_count": 8,
   "id": "5eccdde9",
   "metadata": {},
   "outputs": [],
   "source": [
    "# the following two lines are needed in order to execute the magic word 'capture'\n",
    "# it function is to capture the cell output and hides it \n",
    "# used to hide the unnecessary info from printing \n",
    "# it has no connection to this project\n",
    "\n",
    "import nest_asyncio\n",
    "nest_asyncio.apply()"
   ]
  },
  {
   "cell_type": "code",
   "execution_count": 9,
   "id": "c60afbae",
   "metadata": {},
   "outputs": [],
   "source": [
    "%%capture\n",
    "\n",
    "# extract all 36 before_arithmetic_task data into before_epochs_array\n",
    "before_epochs_array = [read_data(i) for i in before_arithmetic_task]\n",
    "\n",
    "# extract all 36 during_arithmetic_task data into during_epochs_array\n",
    "during_epochs_array = [read_data(i) for i in during_arithmetic_task]"
   ]
  },
  {
   "cell_type": "code",
   "execution_count": 10,
   "id": "3253e203",
   "metadata": {},
   "outputs": [
    {
     "data": {
      "text/plain": [
       "((45, 21, 2500), (15, 21, 2500))"
      ]
     },
     "execution_count": 10,
     "metadata": {},
     "output_type": "execute_result"
    }
   ],
   "source": [
    "before_epochs_array[0].shape, during_epochs_array[0].shape # no of epochs, channels, length of signal"
   ]
  },
  {
   "cell_type": "code",
   "execution_count": 11,
   "id": "d1f0127b",
   "metadata": {},
   "outputs": [
    {
     "data": {
      "text/plain": [
       "(36, 36)"
      ]
     },
     "execution_count": 11,
     "metadata": {},
     "output_type": "execute_result"
    }
   ],
   "source": [
    "# each person data be in the following format\n",
    "# person 1\n",
    "#    epoch 1\n",
    "#    epoch 2\n",
    "#    epoch 3\n",
    "#    ....\n",
    "# person 2\n",
    "#    epoch 1\n",
    "#    epoch 2\n",
    "#    epoch 3\n",
    "#    ....\n",
    "\n",
    "# so we need to create label for each epoch under each person not just one label for one person\n",
    "# the following two lines of code are to create labels for each epoch under each person/each .edf file\n",
    "# 0 for before arithmetic task and 1 for during arithmetic task data\n",
    "\n",
    "before_epochs_labels = [len(i)*[0] for i in before_epochs_array]\n",
    "during_epochs_labels = [len(i)*[1] for i in during_epochs_array]\n",
    "len(before_epochs_labels), len(during_epochs_labels)"
   ]
  },
  {
   "cell_type": "code",
   "execution_count": 12,
   "id": "c9e8b265",
   "metadata": {},
   "outputs": [],
   "source": [
    "# data_list is combination of before arithmetic data and during arithmetic data\n",
    "data_list = before_epochs_array + during_epochs_array\n",
    "\n",
    "# label_list is combination of before arithmetic labels and during arithmetic labels\n",
    "label_list = before_epochs_labels + during_epochs_labels"
   ]
  },
  {
   "cell_type": "code",
   "execution_count": 13,
   "id": "28033c18",
   "metadata": {},
   "outputs": [
    {
     "data": {
      "text/plain": [
       "72"
      ]
     },
     "execution_count": 13,
     "metadata": {},
     "output_type": "execute_result"
    }
   ],
   "source": [
    "# split the data based on subjects\n",
    "# not on the basis of epochs or trails\n",
    "# assign a group to each subject(edf file) and split based on groups\n",
    "# because we know the data is in the follwing format\n",
    "# person 1\n",
    "#    epoch 1\n",
    "#    epoch 2\n",
    "#    epoch 3\n",
    "#    ....\n",
    "# person 2\n",
    "#    epoch 1\n",
    "#    epoch 2\n",
    "#    epoch 3\n",
    "#    ....\n",
    "# if we randomly split it based on epochs person1 epoch1 may fall under training data\n",
    "# at the same time person1 epoch2 may fall under test data\n",
    "# now the model would easily predict because it trained on person1 and leads to overfitting\n",
    "\n",
    "# in order to overcome that we assign a group value for each epoch\n",
    "# like person1 group value for each epoch is 1 and person2 group value for each epoch is 2 so on\n",
    "# and then split the data based on groups \n",
    "# now all the epochs on person1 may fall either on train or test not on both\n",
    "group_list = [[i]*len(j) for i,j in enumerate(data_list)]\n",
    "len(group_list)"
   ]
  },
  {
   "cell_type": "code",
   "execution_count": 14,
   "id": "3b19d1cd",
   "metadata": {},
   "outputs": [
    {
     "name": "stdout",
     "output_type": "stream",
     "text": [
      "(2132, 21, 2500) (2132,) (2132,)\n"
     ]
    }
   ],
   "source": [
    "# convert lists into numpy arrays\n",
    "data_array = np.vstack(data_list)\n",
    "label_array = np.hstack(label_list)\n",
    "group_array = np.hstack(group_list)\n",
    "print(data_array.shape, label_array.shape, group_array.shape)"
   ]
  },
  {
   "cell_type": "code",
   "execution_count": 15,
   "id": "ed354349",
   "metadata": {},
   "outputs": [
    {
     "data": {
      "text/plain": [
       "(2132, 2500, 21)"
      ]
     },
     "execution_count": 15,
     "metadata": {},
     "output_type": "execute_result"
    }
   ],
   "source": [
    "# 2132 no of segments, 21 no of channels, 2500 is the length\n",
    "# cnn expects the channel at the end so we need to change it to (2132, 2500, 21)\n",
    "data_array=np.moveaxis(data_array,1,2)\n",
    "data_array.shape"
   ]
  },
  {
   "cell_type": "code",
   "execution_count": 16,
   "id": "3ca115d9",
   "metadata": {},
   "outputs": [],
   "source": [
    "from sklearn.model_selection import GroupKFold,LeaveOneGroupOut\n",
    "from sklearn.preprocessing import StandardScaler\n",
    "gkf=GroupKFold()"
   ]
  },
  {
   "cell_type": "code",
   "execution_count": 17,
   "id": "5ca309b5",
   "metadata": {},
   "outputs": [],
   "source": [
    "# creating train and test features for one fold\n",
    "\n",
    "accuracy=[] # to store accuracy for each fold\n",
    "\n",
    "for train_index, val_index in gkf.split(data_array, label_array, groups=group_array):\n",
    "    \n",
    "    # from gkf.split we can get train, test and validation data\n",
    "    train_features,train_labels=data_array[train_index],label_array[train_index]\n",
    "    val_features,val_labels=data_array[val_index],label_array[val_index]\n",
    "    \n",
    "    # after the shape of train_features will be like (1710, 2500, 21)\n",
    "    # for scalling we can only apply standard scaler on 2d data\n",
    "    # so in order to apply standard we have to convert train_features into 2d array (1710*2500, 21)\n",
    "    # then apply scalling\n",
    "    # after scalling is done again reshape the data into its original form like (1710, 2500, 21)\n",
    "    \n",
    "    scaler=StandardScaler()\n",
    "    \n",
    "    # reshape train_features into 2d apply scalling then reshape it back into original format\n",
    "    train_features = scaler.fit_transform(train_features.reshape(-1, train_features.shape[-1])).reshape(train_features.shape)\n",
    "    \n",
    "    # reshape val_features into 2d apply scalling then reshape it back into original format\n",
    "    val_features = scaler.transform(val_features.reshape(-1, val_features.shape[-1])).reshape(val_features.shape)\n",
    "\n",
    "    break"
   ]
  },
  {
   "cell_type": "code",
   "execution_count": 18,
   "id": "ddef8c5a",
   "metadata": {},
   "outputs": [
    {
     "data": {
      "text/plain": [
       "((1710, 2500, 21), (422, 2500, 21))"
      ]
     },
     "execution_count": 18,
     "metadata": {},
     "output_type": "execute_result"
    }
   ],
   "source": [
    "train_features.shape, val_features.shape"
   ]
  },
  {
   "cell_type": "code",
   "execution_count": 28,
   "id": "b493ffe8",
   "metadata": {},
   "outputs": [],
   "source": [
    "# constructiion of chrononet(cnn + gru)\n",
    "# based on a research paper link: https://link.springer.com/chapter/10.1007/978-3-030-21642-9_8"
   ]
  },
  {
   "cell_type": "code",
   "execution_count": 19,
   "id": "d1425694",
   "metadata": {},
   "outputs": [],
   "source": [
    "from tensorflow.keras.layers import Input,Dense,concatenate,Flatten,GRU,Conv1D\n",
    "from tensorflow.keras.models import Model"
   ]
  },
  {
   "cell_type": "code",
   "execution_count": 20,
   "id": "0ba8f764",
   "metadata": {},
   "outputs": [],
   "source": [
    "def block(input):\n",
    "    conv1 = Conv1D(32, 2, strides=2,activation='relu',padding=\"same\")(input)\n",
    "    conv2 = Conv1D(32, 4, strides=2,activation='relu',padding=\"causal\")(input)\n",
    "    conv3 = Conv1D(32, 8, strides=2,activation='relu',padding=\"causal\")(input)\n",
    "    x = concatenate([conv1,conv2,conv3],axis=2)\n",
    "    return x"
   ]
  },
  {
   "cell_type": "code",
   "execution_count": 21,
   "id": "1678ec59",
   "metadata": {},
   "outputs": [],
   "source": [
    "input= Input(shape=(2500, 21))  # ((1710, 2500, 21), (422, 2500, 21)) required input shape\n",
    "block1=block(input)\n",
    "block2=block(block1)\n",
    "block3=block(block2)"
   ]
  },
  {
   "cell_type": "code",
   "execution_count": 22,
   "id": "78598128",
   "metadata": {},
   "outputs": [],
   "source": [
    "gru_out1 = GRU(32,activation='tanh',return_sequences=True)(block3)\n",
    "gru_out2 = GRU(32,activation='tanh',return_sequences=True)(gru_out1)\n",
    "gru_out = concatenate([gru_out1,gru_out2],axis=2)\n",
    "gru_out3 = GRU(32,activation='tanh',return_sequences=True)(gru_out)\n",
    "gru_out = concatenate([gru_out1,gru_out2,gru_out3])\n",
    "gru_out4 = GRU(32,activation='tanh')(gru_out)"
   ]
  },
  {
   "cell_type": "code",
   "execution_count": 23,
   "id": "a7913582",
   "metadata": {},
   "outputs": [],
   "source": [
    "predictions = Dense(1,activation='sigmoid')(gru_out4)\n",
    "model = Model(inputs=input, outputs=predictions)\n",
    "\n",
    "model.compile(optimizer = 'adam', loss = 'binary_crossentropy', metrics=['accuracy'])"
   ]
  },
  {
   "cell_type": "code",
   "execution_count": 24,
   "id": "3dbd6bdc",
   "metadata": {},
   "outputs": [
    {
     "name": "stdout",
     "output_type": "stream",
     "text": [
      "Epoch 1/26\n",
      "14/14 [==============================] - 39s 2s/step - loss: 0.5823 - accuracy: 0.7327 - val_loss: 0.5190 - val_accuracy: 0.7867\n",
      "Epoch 2/26\n",
      "14/14 [==============================] - 31s 2s/step - loss: 0.5760 - accuracy: 0.7368 - val_loss: 0.5184 - val_accuracy: 0.7867\n",
      "Epoch 3/26\n",
      "14/14 [==============================] - 28s 2s/step - loss: 0.5547 - accuracy: 0.7368 - val_loss: 0.5146 - val_accuracy: 0.7844\n",
      "Epoch 4/26\n",
      "14/14 [==============================] - 28s 2s/step - loss: 0.5367 - accuracy: 0.7421 - val_loss: 0.5073 - val_accuracy: 0.7867\n",
      "Epoch 5/26\n",
      "14/14 [==============================] - 32s 2s/step - loss: 0.5032 - accuracy: 0.7579 - val_loss: 0.5045 - val_accuracy: 0.7867\n",
      "Epoch 6/26\n",
      "14/14 [==============================] - 30s 2s/step - loss: 0.4777 - accuracy: 0.7678 - val_loss: 0.5353 - val_accuracy: 0.7370\n",
      "Epoch 7/26\n",
      "14/14 [==============================] - 32s 2s/step - loss: 0.4443 - accuracy: 0.7947 - val_loss: 0.5454 - val_accuracy: 0.7464\n",
      "Epoch 8/26\n",
      "14/14 [==============================] - 29s 2s/step - loss: 0.3888 - accuracy: 0.8351 - val_loss: 0.5988 - val_accuracy: 0.6943\n",
      "Epoch 9/26\n",
      "14/14 [==============================] - 28s 2s/step - loss: 0.3320 - accuracy: 0.8602 - val_loss: 0.7109 - val_accuracy: 0.6493\n",
      "Epoch 10/26\n",
      "14/14 [==============================] - 32s 2s/step - loss: 0.2868 - accuracy: 0.8871 - val_loss: 0.6917 - val_accuracy: 0.7488\n",
      "Epoch 11/26\n",
      "14/14 [==============================] - 30s 2s/step - loss: 0.2509 - accuracy: 0.8936 - val_loss: 0.7423 - val_accuracy: 0.6730\n",
      "Epoch 12/26\n",
      "14/14 [==============================] - 31s 2s/step - loss: 0.1736 - accuracy: 0.9380 - val_loss: 0.7991 - val_accuracy: 0.6943\n",
      "Epoch 13/26\n",
      "14/14 [==============================] - 29s 2s/step - loss: 0.1347 - accuracy: 0.9515 - val_loss: 0.8584 - val_accuracy: 0.7251\n",
      "Epoch 14/26\n",
      "14/14 [==============================] - 33s 2s/step - loss: 0.0801 - accuracy: 0.9725 - val_loss: 1.0616 - val_accuracy: 0.6967\n",
      "Epoch 15/26\n",
      "14/14 [==============================] - 28s 2s/step - loss: 0.0698 - accuracy: 0.9760 - val_loss: 1.0969 - val_accuracy: 0.6706\n",
      "Epoch 16/26\n",
      "14/14 [==============================] - 33s 2s/step - loss: 0.0987 - accuracy: 0.9596 - val_loss: 1.0806 - val_accuracy: 0.7299\n",
      "Epoch 17/26\n",
      "14/14 [==============================] - 31s 2s/step - loss: 0.1356 - accuracy: 0.9456 - val_loss: 1.1621 - val_accuracy: 0.6422\n",
      "Epoch 18/26\n",
      "14/14 [==============================] - 30s 2s/step - loss: 0.1240 - accuracy: 0.9520 - val_loss: 1.0847 - val_accuracy: 0.6303\n",
      "Epoch 19/26\n",
      "14/14 [==============================] - 33s 2s/step - loss: 0.0858 - accuracy: 0.9719 - val_loss: 0.9315 - val_accuracy: 0.7583\n",
      "Epoch 20/26\n",
      "14/14 [==============================] - 29s 2s/step - loss: 0.0459 - accuracy: 0.9871 - val_loss: 1.1294 - val_accuracy: 0.6848\n",
      "Epoch 21/26\n",
      "14/14 [==============================] - 33s 2s/step - loss: 0.0311 - accuracy: 0.9895 - val_loss: 1.1048 - val_accuracy: 0.7014\n",
      "Epoch 22/26\n",
      "14/14 [==============================] - 30s 2s/step - loss: 0.0161 - accuracy: 0.9965 - val_loss: 1.1934 - val_accuracy: 0.7133\n",
      "Epoch 23/26\n",
      "14/14 [==============================] - 33s 2s/step - loss: 0.0102 - accuracy: 0.9982 - val_loss: 1.2190 - val_accuracy: 0.7085\n",
      "Epoch 24/26\n",
      "14/14 [==============================] - 29s 2s/step - loss: 0.0038 - accuracy: 1.0000 - val_loss: 1.3136 - val_accuracy: 0.6919\n",
      "Epoch 25/26\n",
      "14/14 [==============================] - 33s 2s/step - loss: 0.0028 - accuracy: 1.0000 - val_loss: 1.3306 - val_accuracy: 0.7109\n",
      "Epoch 26/26\n",
      "14/14 [==============================] - 29s 2s/step - loss: 0.0022 - accuracy: 1.0000 - val_loss: 1.3714 - val_accuracy: 0.7014\n"
     ]
    },
    {
     "data": {
      "text/plain": [
       "<keras.src.callbacks.History at 0x1f53eb0f610>"
      ]
     },
     "execution_count": 24,
     "metadata": {},
     "output_type": "execute_result"
    }
   ],
   "source": [
    "model.fit(train_features,train_labels,epochs=26,batch_size=128,validation_data=(val_features,val_labels))"
   ]
  },
  {
   "cell_type": "code",
   "execution_count": 26,
   "id": "d3c3aacb",
   "metadata": {},
   "outputs": [
    {
     "name": "stdout",
     "output_type": "stream",
     "text": [
      "14/14 [==============================] - 2s 132ms/step - loss: 1.3714 - accuracy: 0.7014\n",
      "accuracy 70.14\n"
     ]
    }
   ],
   "source": [
    "print('accuracy',round((model.evaluate(val_features,val_labels)[1] * 100), 2))"
   ]
  },
  {
   "cell_type": "code",
   "execution_count": null,
   "id": "904c7dd1",
   "metadata": {},
   "outputs": [],
   "source": [
    "# accuracy of single fold is 70.14% using chrononet(cnn+gru)"
   ]
  },
  {
   "cell_type": "code",
   "execution_count": null,
   "id": "0084676b",
   "metadata": {},
   "outputs": [],
   "source": [
    "# Applying K fold cross validation"
   ]
  },
  {
   "cell_type": "code",
   "execution_count": 27,
   "id": "48c248bc",
   "metadata": {},
   "outputs": [
    {
     "name": "stdout",
     "output_type": "stream",
     "text": [
      "Epoch 1/20\n",
      "14/14 [==============================] - 38s 2s/step - loss: 0.0018 - accuracy: 1.0000 - val_loss: 1.3973 - val_accuracy: 0.7014\n",
      "Epoch 2/20\n",
      "14/14 [==============================] - 30s 2s/step - loss: 0.0016 - accuracy: 1.0000 - val_loss: 1.4030 - val_accuracy: 0.7014\n",
      "Epoch 3/20\n",
      "14/14 [==============================] - 29s 2s/step - loss: 0.0014 - accuracy: 1.0000 - val_loss: 1.4284 - val_accuracy: 0.7014\n",
      "Epoch 4/20\n",
      "14/14 [==============================] - 33s 2s/step - loss: 0.0013 - accuracy: 1.0000 - val_loss: 1.4493 - val_accuracy: 0.7014\n",
      "Epoch 5/20\n",
      "14/14 [==============================] - 31s 2s/step - loss: 0.0012 - accuracy: 1.0000 - val_loss: 1.4687 - val_accuracy: 0.7014\n",
      "Epoch 6/20\n",
      "14/14 [==============================] - 37s 3s/step - loss: 0.0011 - accuracy: 1.0000 - val_loss: 1.4811 - val_accuracy: 0.7014\n",
      "Epoch 7/20\n",
      "14/14 [==============================] - 35s 2s/step - loss: 0.0011 - accuracy: 1.0000 - val_loss: 1.4939 - val_accuracy: 0.7062\n",
      "Epoch 8/20\n",
      "14/14 [==============================] - 30s 2s/step - loss: 0.0010 - accuracy: 1.0000 - val_loss: 1.5071 - val_accuracy: 0.7062\n",
      "Epoch 9/20\n",
      "14/14 [==============================] - 35s 2s/step - loss: 9.4518e-04 - accuracy: 1.0000 - val_loss: 1.5238 - val_accuracy: 0.7062\n",
      "Epoch 10/20\n",
      "14/14 [==============================] - 37s 3s/step - loss: 8.9692e-04 - accuracy: 1.0000 - val_loss: 1.5364 - val_accuracy: 0.7062\n",
      "Epoch 11/20\n",
      "14/14 [==============================] - 30s 2s/step - loss: 8.5211e-04 - accuracy: 1.0000 - val_loss: 1.5488 - val_accuracy: 0.7062\n",
      "Epoch 12/20\n",
      "14/14 [==============================] - 35s 3s/step - loss: 8.1192e-04 - accuracy: 1.0000 - val_loss: 1.5583 - val_accuracy: 0.7062\n",
      "Epoch 13/20\n",
      "14/14 [==============================] - 35s 3s/step - loss: 7.7522e-04 - accuracy: 1.0000 - val_loss: 1.5719 - val_accuracy: 0.7062\n",
      "Epoch 14/20\n",
      "14/14 [==============================] - 37s 3s/step - loss: 7.4123e-04 - accuracy: 1.0000 - val_loss: 1.5843 - val_accuracy: 0.7062\n",
      "Epoch 15/20\n",
      "14/14 [==============================] - 35s 2s/step - loss: 7.0998e-04 - accuracy: 1.0000 - val_loss: 1.5938 - val_accuracy: 0.7062\n",
      "Epoch 16/20\n",
      "14/14 [==============================] - 30s 2s/step - loss: 6.8108e-04 - accuracy: 1.0000 - val_loss: 1.6020 - val_accuracy: 0.7085\n",
      "Epoch 17/20\n",
      "14/14 [==============================] - 35s 2s/step - loss: 6.5412e-04 - accuracy: 1.0000 - val_loss: 1.6137 - val_accuracy: 0.7085\n",
      "Epoch 18/20\n",
      "14/14 [==============================] - 34s 2s/step - loss: 6.2886e-04 - accuracy: 1.0000 - val_loss: 1.6262 - val_accuracy: 0.7085\n",
      "Epoch 19/20\n",
      "14/14 [==============================] - 32s 2s/step - loss: 6.0549e-04 - accuracy: 1.0000 - val_loss: 1.6358 - val_accuracy: 0.7085\n",
      "Epoch 20/20\n",
      "14/14 [==============================] - 32s 2s/step - loss: 5.8332e-04 - accuracy: 1.0000 - val_loss: 1.6482 - val_accuracy: 0.7062\n",
      "14/14 [==============================] - 4s 269ms/step - loss: 1.6482 - accuracy: 0.7062\n",
      "Epoch 1/20\n",
      "14/14 [==============================] - 36s 3s/step - loss: 0.4969 - accuracy: 0.8880 - val_loss: 0.4400 - val_accuracy: 0.8368\n",
      "Epoch 2/20\n",
      "14/14 [==============================] - 33s 2s/step - loss: 0.4347 - accuracy: 0.8368 - val_loss: 0.4873 - val_accuracy: 0.7494\n",
      "Epoch 3/20\n",
      "14/14 [==============================] - 33s 2s/step - loss: 0.3125 - accuracy: 0.8686 - val_loss: 0.3999 - val_accuracy: 0.8207\n",
      "Epoch 4/20\n",
      "14/14 [==============================] - 36s 3s/step - loss: 0.1945 - accuracy: 0.9358 - val_loss: 0.3544 - val_accuracy: 0.8506\n",
      "Epoch 5/20\n",
      "14/14 [==============================] - 36s 3s/step - loss: 0.1153 - accuracy: 0.9664 - val_loss: 0.3850 - val_accuracy: 0.8253\n",
      "Epoch 6/20\n",
      "14/14 [==============================] - 34s 2s/step - loss: 0.0631 - accuracy: 0.9906 - val_loss: 0.4034 - val_accuracy: 0.8552\n",
      "Epoch 7/20\n",
      "14/14 [==============================] - 36s 3s/step - loss: 0.0292 - accuracy: 0.9965 - val_loss: 0.4682 - val_accuracy: 0.8483\n",
      "Epoch 8/20\n",
      "14/14 [==============================] - 34s 2s/step - loss: 0.0210 - accuracy: 0.9971 - val_loss: 0.5644 - val_accuracy: 0.8437\n",
      "Epoch 9/20\n",
      "14/14 [==============================] - 30s 2s/step - loss: 0.0117 - accuracy: 0.9994 - val_loss: 0.5461 - val_accuracy: 0.8460\n",
      "Epoch 10/20\n",
      "14/14 [==============================] - 33s 2s/step - loss: 0.0058 - accuracy: 0.9994 - val_loss: 0.5315 - val_accuracy: 0.8506\n",
      "Epoch 11/20\n",
      "14/14 [==============================] - 34s 2s/step - loss: 0.0041 - accuracy: 1.0000 - val_loss: 0.5601 - val_accuracy: 0.8483\n",
      "Epoch 12/20\n",
      "14/14 [==============================] - 34s 2s/step - loss: 0.0032 - accuracy: 1.0000 - val_loss: 0.6067 - val_accuracy: 0.8437\n",
      "Epoch 13/20\n",
      "14/14 [==============================] - 34s 2s/step - loss: 0.0027 - accuracy: 1.0000 - val_loss: 0.6053 - val_accuracy: 0.8460\n",
      "Epoch 14/20\n",
      "14/14 [==============================] - 31s 2s/step - loss: 0.0023 - accuracy: 1.0000 - val_loss: 0.6232 - val_accuracy: 0.8483\n",
      "Epoch 15/20\n",
      "14/14 [==============================] - 33s 2s/step - loss: 0.0021 - accuracy: 1.0000 - val_loss: 0.6167 - val_accuracy: 0.8460\n",
      "Epoch 16/20\n",
      "14/14 [==============================] - 35s 2s/step - loss: 0.0019 - accuracy: 1.0000 - val_loss: 0.6391 - val_accuracy: 0.8483\n",
      "Epoch 17/20\n",
      "14/14 [==============================] - 36s 3s/step - loss: 0.0018 - accuracy: 1.0000 - val_loss: 0.6434 - val_accuracy: 0.8483\n",
      "Epoch 18/20\n",
      "14/14 [==============================] - 34s 2s/step - loss: 0.0016 - accuracy: 1.0000 - val_loss: 0.6423 - val_accuracy: 0.8506\n",
      "Epoch 19/20\n",
      "14/14 [==============================] - 33s 2s/step - loss: 0.0015 - accuracy: 1.0000 - val_loss: 0.6557 - val_accuracy: 0.8483\n",
      "Epoch 20/20\n",
      "14/14 [==============================] - 29s 2s/step - loss: 0.0014 - accuracy: 1.0000 - val_loss: 0.6650 - val_accuracy: 0.8506\n",
      "14/14 [==============================] - 4s 265ms/step - loss: 0.6650 - accuracy: 0.8506\n",
      "Epoch 1/20\n",
      "14/14 [==============================] - 33s 2s/step - loss: 0.2006 - accuracy: 0.9381 - val_loss: 0.2701 - val_accuracy: 0.9103\n",
      "Epoch 2/20\n",
      "14/14 [==============================] - 39s 3s/step - loss: 0.1899 - accuracy: 0.9287 - val_loss: 0.3478 - val_accuracy: 0.8713\n",
      "Epoch 3/20\n",
      "14/14 [==============================] - 35s 2s/step - loss: 0.1401 - accuracy: 0.9428 - val_loss: 0.2791 - val_accuracy: 0.8943\n",
      "Epoch 4/20\n",
      "14/14 [==============================] - 32s 2s/step - loss: 0.0735 - accuracy: 0.9735 - val_loss: 0.2129 - val_accuracy: 0.9103\n",
      "Epoch 5/20\n",
      "14/14 [==============================] - 30s 2s/step - loss: 0.0342 - accuracy: 0.9906 - val_loss: 0.1988 - val_accuracy: 0.9241\n",
      "Epoch 6/20\n",
      "14/14 [==============================] - 32s 2s/step - loss: 0.0179 - accuracy: 0.9965 - val_loss: 0.1855 - val_accuracy: 0.9287\n",
      "Epoch 7/20\n",
      "14/14 [==============================] - 30s 2s/step - loss: 0.0075 - accuracy: 0.9994 - val_loss: 0.1770 - val_accuracy: 0.9356\n",
      "Epoch 8/20\n",
      "14/14 [==============================] - 33s 2s/step - loss: 0.0049 - accuracy: 0.9994 - val_loss: 0.2214 - val_accuracy: 0.9241\n",
      "Epoch 9/20\n",
      "14/14 [==============================] - 33s 2s/step - loss: 0.0048 - accuracy: 0.9994 - val_loss: 0.1951 - val_accuracy: 0.9241\n",
      "Epoch 10/20\n",
      "14/14 [==============================] - 29s 2s/step - loss: 0.0038 - accuracy: 0.9994 - val_loss: 0.1638 - val_accuracy: 0.9425\n",
      "Epoch 11/20\n",
      "14/14 [==============================] - 34s 2s/step - loss: 0.0025 - accuracy: 1.0000 - val_loss: 0.1634 - val_accuracy: 0.9425\n",
      "Epoch 12/20\n",
      "14/14 [==============================] - 34s 2s/step - loss: 0.0017 - accuracy: 1.0000 - val_loss: 0.1766 - val_accuracy: 0.9425\n",
      "Epoch 13/20\n",
      "14/14 [==============================] - 34s 2s/step - loss: 0.0015 - accuracy: 1.0000 - val_loss: 0.1714 - val_accuracy: 0.9425\n",
      "Epoch 14/20\n",
      "14/14 [==============================] - 33s 2s/step - loss: 0.0013 - accuracy: 1.0000 - val_loss: 0.1712 - val_accuracy: 0.9425\n",
      "Epoch 15/20\n",
      "14/14 [==============================] - 30s 2s/step - loss: 0.0012 - accuracy: 1.0000 - val_loss: 0.1724 - val_accuracy: 0.9471\n",
      "Epoch 16/20\n",
      "14/14 [==============================] - 33s 2s/step - loss: 0.0011 - accuracy: 1.0000 - val_loss: 0.1740 - val_accuracy: 0.9471\n",
      "Epoch 17/20\n",
      "14/14 [==============================] - 34s 2s/step - loss: 0.0011 - accuracy: 1.0000 - val_loss: 0.1748 - val_accuracy: 0.9448\n"
     ]
    },
    {
     "name": "stdout",
     "output_type": "stream",
     "text": [
      "Epoch 18/20\n",
      "14/14 [==============================] - 29s 2s/step - loss: 0.0010 - accuracy: 1.0000 - val_loss: 0.1754 - val_accuracy: 0.9448\n",
      "Epoch 19/20\n",
      "14/14 [==============================] - 33s 2s/step - loss: 9.6875e-04 - accuracy: 1.0000 - val_loss: 0.1770 - val_accuracy: 0.9448\n",
      "Epoch 20/20\n",
      "14/14 [==============================] - 34s 2s/step - loss: 9.2098e-04 - accuracy: 1.0000 - val_loss: 0.1779 - val_accuracy: 0.9448\n",
      "14/14 [==============================] - 4s 254ms/step - loss: 0.1779 - accuracy: 0.9448\n",
      "Epoch 1/20\n",
      "14/14 [==============================] - 38s 3s/step - loss: 0.0580 - accuracy: 0.9813 - val_loss: 0.0218 - val_accuracy: 0.9905\n",
      "Epoch 2/20\n",
      "14/14 [==============================] - 32s 2s/step - loss: 0.0914 - accuracy: 0.9644 - val_loss: 0.1364 - val_accuracy: 0.9548\n",
      "Epoch 3/20\n",
      "14/14 [==============================] - 33s 2s/step - loss: 0.1553 - accuracy: 0.9416 - val_loss: 0.1144 - val_accuracy: 0.9500\n",
      "Epoch 4/20\n",
      "14/14 [==============================] - 33s 2s/step - loss: 0.0654 - accuracy: 0.9772 - val_loss: 0.0480 - val_accuracy: 0.9810\n",
      "Epoch 5/20\n",
      "14/14 [==============================] - 29s 2s/step - loss: 0.0343 - accuracy: 0.9901 - val_loss: 0.1080 - val_accuracy: 0.9619\n",
      "Epoch 6/20\n",
      "14/14 [==============================] - 34s 2s/step - loss: 0.0186 - accuracy: 0.9953 - val_loss: 0.0402 - val_accuracy: 0.9810\n",
      "Epoch 7/20\n",
      "14/14 [==============================] - 34s 2s/step - loss: 0.0071 - accuracy: 0.9994 - val_loss: 0.0399 - val_accuracy: 0.9857\n",
      "Epoch 8/20\n",
      "14/14 [==============================] - 30s 2s/step - loss: 0.0033 - accuracy: 1.0000 - val_loss: 0.0310 - val_accuracy: 0.9857\n",
      "Epoch 9/20\n",
      "14/14 [==============================] - 31s 2s/step - loss: 0.0018 - accuracy: 1.0000 - val_loss: 0.0266 - val_accuracy: 0.9905\n",
      "Epoch 10/20\n",
      "14/14 [==============================] - 33s 2s/step - loss: 0.0015 - accuracy: 1.0000 - val_loss: 0.0262 - val_accuracy: 0.9929\n",
      "Epoch 11/20\n",
      "14/14 [==============================] - 33s 2s/step - loss: 0.0012 - accuracy: 1.0000 - val_loss: 0.0268 - val_accuracy: 0.9905\n",
      "Epoch 12/20\n",
      "14/14 [==============================] - 35s 3s/step - loss: 0.0011 - accuracy: 1.0000 - val_loss: 0.0270 - val_accuracy: 0.9905\n",
      "Epoch 13/20\n",
      "14/14 [==============================] - 29s 2s/step - loss: 0.0010 - accuracy: 1.0000 - val_loss: 0.0268 - val_accuracy: 0.9929\n",
      "Epoch 14/20\n",
      "14/14 [==============================] - 33s 2s/step - loss: 9.6658e-04 - accuracy: 1.0000 - val_loss: 0.0270 - val_accuracy: 0.9929\n",
      "Epoch 15/20\n",
      "14/14 [==============================] - 33s 2s/step - loss: 9.0822e-04 - accuracy: 1.0000 - val_loss: 0.0268 - val_accuracy: 0.9905\n",
      "Epoch 16/20\n",
      "14/14 [==============================] - 36s 3s/step - loss: 8.5973e-04 - accuracy: 1.0000 - val_loss: 0.0265 - val_accuracy: 0.9905\n",
      "Epoch 17/20\n",
      "14/14 [==============================] - 38s 3s/step - loss: 8.1507e-04 - accuracy: 1.0000 - val_loss: 0.0269 - val_accuracy: 0.9905\n",
      "Epoch 18/20\n",
      "14/14 [==============================] - 35s 3s/step - loss: 7.7549e-04 - accuracy: 1.0000 - val_loss: 0.0269 - val_accuracy: 0.9905\n",
      "Epoch 19/20\n",
      "14/14 [==============================] - 35s 3s/step - loss: 7.4049e-04 - accuracy: 1.0000 - val_loss: 0.0272 - val_accuracy: 0.9905\n",
      "Epoch 20/20\n",
      "14/14 [==============================] - 33s 2s/step - loss: 7.0870e-04 - accuracy: 1.0000 - val_loss: 0.0271 - val_accuracy: 0.9905\n",
      "14/14 [==============================] - 2s 145ms/step - loss: 0.0271 - accuracy: 0.9905\n",
      "Epoch 1/20\n",
      "14/14 [==============================] - 33s 2s/step - loss: 0.0103 - accuracy: 0.9953 - val_loss: 0.0023 - val_accuracy: 1.0000\n",
      "Epoch 2/20\n",
      "14/14 [==============================] - 32s 2s/step - loss: 0.0063 - accuracy: 0.9994 - val_loss: 0.0029 - val_accuracy: 1.0000\n",
      "Epoch 3/20\n",
      "14/14 [==============================] - 28s 2s/step - loss: 0.0088 - accuracy: 0.9977 - val_loss: 0.0018 - val_accuracy: 1.0000\n",
      "Epoch 4/20\n",
      "14/14 [==============================] - 33s 2s/step - loss: 0.0443 - accuracy: 0.9866 - val_loss: 0.0201 - val_accuracy: 0.9929\n",
      "Epoch 5/20\n",
      "14/14 [==============================] - 36s 3s/step - loss: 0.0364 - accuracy: 0.9854 - val_loss: 0.0541 - val_accuracy: 0.9881\n",
      "Epoch 6/20\n",
      "14/14 [==============================] - 33s 2s/step - loss: 0.0409 - accuracy: 0.9866 - val_loss: 0.0684 - val_accuracy: 0.9738\n",
      "Epoch 7/20\n",
      "14/14 [==============================] - 32s 2s/step - loss: 0.0403 - accuracy: 0.9854 - val_loss: 0.0298 - val_accuracy: 0.9881\n",
      "Epoch 8/20\n",
      "14/14 [==============================] - 28s 2s/step - loss: 0.0379 - accuracy: 0.9889 - val_loss: 0.0925 - val_accuracy: 0.9667\n",
      "Epoch 9/20\n",
      "14/14 [==============================] - 32s 2s/step - loss: 0.0387 - accuracy: 0.9860 - val_loss: 0.0495 - val_accuracy: 0.9833\n",
      "Epoch 10/20\n",
      "14/14 [==============================] - 32s 2s/step - loss: 0.0182 - accuracy: 0.9942 - val_loss: 0.0432 - val_accuracy: 0.9833\n",
      "Epoch 11/20\n",
      "14/14 [==============================] - 28s 2s/step - loss: 0.0110 - accuracy: 0.9977 - val_loss: 0.0602 - val_accuracy: 0.9738\n",
      "Epoch 12/20\n",
      "14/14 [==============================] - 33s 2s/step - loss: 0.0048 - accuracy: 0.9988 - val_loss: 0.0671 - val_accuracy: 0.9810\n",
      "Epoch 13/20\n",
      "14/14 [==============================] - 32s 2s/step - loss: 0.0094 - accuracy: 0.9977 - val_loss: 0.0790 - val_accuracy: 0.9786\n",
      "Epoch 14/20\n",
      "14/14 [==============================] - 29s 2s/step - loss: 0.0016 - accuracy: 1.0000 - val_loss: 0.0513 - val_accuracy: 0.9833\n",
      "Epoch 15/20\n",
      "14/14 [==============================] - 33s 2s/step - loss: 0.0011 - accuracy: 1.0000 - val_loss: 0.0449 - val_accuracy: 0.9833\n",
      "Epoch 16/20\n",
      "14/14 [==============================] - 33s 2s/step - loss: 8.6689e-04 - accuracy: 1.0000 - val_loss: 0.0405 - val_accuracy: 0.9857\n",
      "Epoch 17/20\n",
      "14/14 [==============================] - 34s 2s/step - loss: 7.4554e-04 - accuracy: 1.0000 - val_loss: 0.0385 - val_accuracy: 0.9857\n",
      "Epoch 18/20\n",
      "14/14 [==============================] - 30s 2s/step - loss: 6.7272e-04 - accuracy: 1.0000 - val_loss: 0.0369 - val_accuracy: 0.9857\n",
      "Epoch 19/20\n",
      "14/14 [==============================] - 35s 3s/step - loss: 6.2134e-04 - accuracy: 1.0000 - val_loss: 0.0363 - val_accuracy: 0.9857\n",
      "Epoch 20/20\n",
      "14/14 [==============================] - 33s 2s/step - loss: 5.8129e-04 - accuracy: 1.0000 - val_loss: 0.0357 - val_accuracy: 0.9881\n",
      "14/14 [==============================] - 4s 250ms/step - loss: 0.0357 - accuracy: 0.9881\n"
     ]
    }
   ],
   "source": [
    "accuracy=[] # to store accuracy for each fold\n",
    "\n",
    "for train_index, val_index in gkf.split(data_array, label_array, groups=group_array):\n",
    "    \n",
    "    # from gkf.split we can get train, test and validation data\n",
    "    train_features,train_labels=data_array[train_index],label_array[train_index]\n",
    "    val_features,val_labels=data_array[val_index],label_array[val_index]\n",
    "    \n",
    "    # after the shape of train_features will be like (1710, 2500, 21)\n",
    "    # for scalling we can only apply standard scaler on 2d data\n",
    "    # so in order to apply standard we have to convert train_features into 2d array (1710*2500, 21)\n",
    "    # then apply scalling\n",
    "    # after scalling is done again reshape the data into its original form like (1710, 2500, 21)\n",
    "    \n",
    "    scaler=StandardScaler()\n",
    "    \n",
    "    # reshape train_features into 2d apply scalling then reshape it back into original format\n",
    "    train_features = scaler.fit_transform(train_features.reshape(-1, train_features.shape[-1])).reshape(train_features.shape)\n",
    "    \n",
    "    # reshape val_features into 2d apply scalling then reshape it back into original format\n",
    "    val_features = scaler.transform(val_features.reshape(-1, val_features.shape[-1])).reshape(val_features.shape)\n",
    "\n",
    "    model.fit(train_features,train_labels,epochs=20,batch_size=128,validation_data=(val_features,val_labels))\n",
    "    \n",
    "    # evaluate and append the accuracy value of this batch\n",
    "    accuracy.append(model.evaluate(val_features,val_labels)[1])"
   ]
  },
  {
   "cell_type": "code",
   "execution_count": 30,
   "id": "064a4df1",
   "metadata": {},
   "outputs": [
    {
     "data": {
      "text/plain": [
       "89.6"
      ]
     },
     "execution_count": 30,
     "metadata": {},
     "output_type": "execute_result"
    }
   ],
   "source": [
    "round((np.mean(accuracy)*100), 2)"
   ]
  },
  {
   "cell_type": "code",
   "execution_count": null,
   "id": "f495b6e8",
   "metadata": {},
   "outputs": [],
   "source": [
    "# after cross validation\n",
    "# mean accuracy of 89.6% is achieved."
   ]
  },
  {
   "cell_type": "code",
   "execution_count": null,
   "id": "07653546",
   "metadata": {},
   "outputs": [],
   "source": []
  },
  {
   "cell_type": "code",
   "execution_count": null,
   "id": "a9fba043",
   "metadata": {},
   "outputs": [],
   "source": []
  },
  {
   "cell_type": "code",
   "execution_count": null,
   "id": "9136bfa7",
   "metadata": {},
   "outputs": [],
   "source": []
  },
  {
   "cell_type": "code",
   "execution_count": null,
   "id": "85326b01",
   "metadata": {},
   "outputs": [],
   "source": []
  },
  {
   "cell_type": "code",
   "execution_count": null,
   "id": "d3d9ad40",
   "metadata": {},
   "outputs": [],
   "source": []
  },
  {
   "cell_type": "code",
   "execution_count": null,
   "id": "2b87b5b2",
   "metadata": {},
   "outputs": [],
   "source": []
  }
 ],
 "metadata": {
  "kernelspec": {
   "display_name": "Python 3 (ipykernel)",
   "language": "python",
   "name": "python3"
  },
  "language_info": {
   "codemirror_mode": {
    "name": "ipython",
    "version": 3
   },
   "file_extension": ".py",
   "mimetype": "text/x-python",
   "name": "python",
   "nbconvert_exporter": "python",
   "pygments_lexer": "ipython3",
   "version": "3.8.3"
  }
 },
 "nbformat": 4,
 "nbformat_minor": 5
}
